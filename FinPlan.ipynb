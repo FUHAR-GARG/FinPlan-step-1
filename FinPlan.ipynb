{
  "nbformat": 4,
  "nbformat_minor": 0,
  "metadata": {
    "colab": {
      "provenance": [],
      "authorship_tag": "ABX9TyPm7WFpI2QCTwTlNpd6Obrx",
      "include_colab_link": true
    },
    "kernelspec": {
      "name": "python3",
      "display_name": "Python 3"
    },
    "language_info": {
      "name": "python"
    }
  },
  "cells": [
    {
      "cell_type": "markdown",
      "metadata": {
        "id": "view-in-github",
        "colab_type": "text"
      },
      "source": [
        "<a href=\"https://colab.research.google.com/github/FUHAR-GARG/FinPlan-step-1/blob/main/FinPlan.ipynb\" target=\"_parent\"><img src=\"https://colab.research.google.com/assets/colab-badge.svg\" alt=\"Open In Colab\"/></a>"
      ]
    },
    {
      "cell_type": "markdown",
      "source": [
        "***Goal Setting and Budgeting***"
      ],
      "metadata": {
        "id": "9bUgb24JeZn9"
      }
    },
    {
      "cell_type": "code",
      "execution_count": 3,
      "metadata": {
        "colab": {
          "base_uri": "https://localhost:8080/"
        },
        "id": "f8HlSVZ0eFCk",
        "outputId": "d7e39faf-72ac-455c-f65e-2d0bd42e59a6"
      },
      "outputs": [
        {
          "output_type": "stream",
          "name": "stdout",
          "text": [
            "[]\n"
          ]
        }
      ],
      "source": [
        "import pandas as pd\n",
        "\n",
        "# Load user's financial data\n",
        "data = pd.read_csv('user_data.csv')\n",
        "\n",
        "# Calculate user's income and expenses\n",
        "income = data['income'].sum()\n",
        "expenses = data['expenses'].sum()\n",
        "\n",
        "# Set goal and calculate required savings\n",
        "goal_amount = 10000\n",
        "goal_duration = 6\n",
        "required_savings = goal_amount / goal_duration\n",
        "\n",
        "# Recommend budget adjustments\n",
        "budget_adjustments = []\n",
        "if income - expenses < required_savings:\n",
        "    budget_adjustments.append('Increase income by $500/month')\n",
        "    budget_adjustments.append('Reduce expenses by $200/month')\n",
        "\n",
        "print(budget_adjustments)"
      ]
    },
    {
      "cell_type": "code",
      "source": [
        "import csv\n",
        "\n",
        "# Define user data\n",
        "user_data = [\n",
        "    {'user_id': 1, 'income': 5000, 'expenses': 2000},\n",
        "    {'user_id': 2, 'income': 6000, 'expenses': 3000},\n",
        "    {'user_id': 3, 'income': 4000, 'expenses': 2500}\n",
        "]\n",
        "\n",
        "# Write user data to CSV file\n",
        "with open('user_data.csv', 'w', newline='') as csvfile:\n",
        "    fieldnames = ['user_id', 'income', 'expenses']\n",
        "    writer = csv.DictWriter(csvfile, fieldnames=fieldnames)\n",
        "\n",
        "    writer.writeheader()\n",
        "    for user in user_data:\n",
        "        writer.writerow(user)"
      ],
      "metadata": {
        "id": "nUTFVi9WfH8m"
      },
      "execution_count": 2,
      "outputs": []
    },
    {
      "cell_type": "markdown",
      "source": [
        "***Investment Portfolio Management***"
      ],
      "metadata": {
        "id": "gEpKHUJGee9q"
      }
    },
    {
      "cell_type": "code",
      "source": [
        "import csv\n",
        "\n",
        "# Define portfolio data\n",
        "portfolio_data = [\n",
        "    {'user_id': 1, 'stock': 'AAPL', 'shares': 100, 'price': 150},\n",
        "    {'user_id': 1, 'stock': 'GOOG', 'shares': 50, 'price': 1000},\n",
        "    {'user_id': 2, 'stock': 'AAPL', 'shares': 150, 'price': 150},\n",
        "    {'user_id': 2, 'stock': 'GOOG', 'shares': 80, 'price': 1000},\n",
        "    {'user_id': 3, 'stock': 'AAPL', 'shares': 75, 'price': 150},\n",
        "    {'user_id': 3, 'stock': 'GOOG', 'shares': 100, 'price': 1000}\n",
        "]\n",
        "\n",
        "# Write portfolio data to CSV file\n",
        "with open('portfolio_data.csv', 'w', newline='') as csvfile:\n",
        "    fieldnames = ['user_id', 'stock', 'shares', 'price']\n",
        "    writer = csv.DictWriter(csvfile, fieldnames=fieldnames)\n",
        "\n",
        "    writer.writeheader()\n",
        "    for data in portfolio_data:\n",
        "        writer.writerow(data)"
      ],
      "metadata": {
        "id": "TBpqRcJ1fYLV"
      },
      "execution_count": 4,
      "outputs": []
    },
    {
      "cell_type": "code",
      "source": [
        "import pandas as pd\n",
        "import tensorflow as tf\n",
        "from tensorflow.keras import layers\n",
        "\n",
        "# Define input shape based on the number of features in the portfolio data\n",
        "input_shape = (portfolio_data.shape[1] - 1,)\n",
        "\n",
        "# Define the neural network architecture\n",
        "model = tf.keras.Sequential([\n",
        "    layers.Dense(64, activation='relu', input_shape=input_shape),\n",
        "    layers.Dense(32, activation='relu'),\n",
        "    layers.Dense(1)\n",
        "])\n",
        "\n",
        "# Compile the model\n",
        "model.compile(optimizer='adam', loss='mean_squared_error')\n",
        "\n",
        "# Train the model\n",
        "X = portfolio_data.iloc[:, :-1]\n",
        "y = portfolio_data.iloc[:, -1].astype(float)\n",
        "model.fit(X, y, epochs=100)"
      ],
      "metadata": {
        "id": "0vs5wO0XgLin"
      },
      "execution_count": null,
      "outputs": []
    },
    {
      "cell_type": "code",
      "source": [
        "import numpy as np\n",
        "from tensorflow import keras\n",
        "\n",
        "# Load user's investment portfolio data\n",
        "portfolio_data = pd.read_csv('portfolio_data.csv')\n",
        "\n",
        "# Analyze portfolio using machine learning algorithm\n",
        "model = keras.Sequential([...])\n",
        "model.fit(portfolio_data, epochs=100)\n",
        "\n",
        "# Recommend portfolio adjustments\n",
        "recommendations = []\n",
        "if model.predict(portfolio_data) < 0.5:\n",
        "    recommendations.append('Rebalance portfolio to reduce risk')\n",
        "    recommendations.append('Invest in low-cost index funds')\n",
        "\n",
        "print(recommendations)"
      ],
      "metadata": {
        "id": "QqH2bvCfgPLK"
      },
      "execution_count": null,
      "outputs": []
    }
  ]
}